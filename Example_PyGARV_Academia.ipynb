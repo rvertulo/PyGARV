{
 "cells": [
  {
   "cell_type": "markdown",
   "metadata": {},
   "source": [
    "# Otimização da Receita de uma Academia Utilizando Algoritmo Genético"
   ]
  },
  {
   "cell_type": "markdown",
   "metadata": {},
   "source": [
    "Documento criado por <b>Rodrigo Cesar Vertulo</b> em 12 de Novembro de 2019."
   ]
  },
  {
   "cell_type": "markdown",
   "metadata": {},
   "source": [
    "Este documento apresenta a utilização da biblioteca PyGARV para a criação de algoritmos genéticos em conjunto com a linguagem de programação Python para maximizar a receita de uma academia de ginástica durante o período noturno. A academia em questão disponibiliza a seus alunos as seguintes modalidades durante o período:\n",
    "\n",
    "* Musculação\n",
    "* Spinning\n",
    "* Abdômen\n",
    "* Fisioterapia\n",
    "* RPG"
   ]
  },
  {
   "cell_type": "markdown",
   "metadata": {},
   "source": [
    "Sabe-se que a academia tem capacidade para atender no máximo 120 alunos durante o período noturno e que a receita por modalidade e a capacidade de alunos suportada por cada uma é sumarizada na tabela a seguir criada com a biblioteca Pandas do Python."
   ]
  },
  {
   "cell_type": "code",
   "execution_count": 4,
   "metadata": {},
   "outputs": [
    {
     "data": {
      "text/html": [
       "<div>\n",
       "<style>\n",
       "    .dataframe thead tr:only-child th {\n",
       "        text-align: right;\n",
       "    }\n",
       "\n",
       "    .dataframe thead th {\n",
       "        text-align: left;\n",
       "    }\n",
       "\n",
       "    .dataframe tbody tr th {\n",
       "        vertical-align: top;\n",
       "    }\n",
       "</style>\n",
       "<table border=\"1\" class=\"dataframe\">\n",
       "  <thead>\n",
       "    <tr style=\"text-align: right;\">\n",
       "      <th></th>\n",
       "      <th>Abdômen</th>\n",
       "      <th>Fisioterapia</th>\n",
       "      <th>Musculação</th>\n",
       "      <th>RPG</th>\n",
       "      <th>Spinning</th>\n",
       "    </tr>\n",
       "  </thead>\n",
       "  <tbody>\n",
       "    <tr>\n",
       "      <th>0</th>\n",
       "      <td>25</td>\n",
       "      <td>50</td>\n",
       "      <td>35</td>\n",
       "      <td>60</td>\n",
       "      <td>40</td>\n",
       "    </tr>\n",
       "    <tr>\n",
       "      <th>1</th>\n",
       "      <td>40</td>\n",
       "      <td>25</td>\n",
       "      <td>80</td>\n",
       "      <td>15</td>\n",
       "      <td>20</td>\n",
       "    </tr>\n",
       "  </tbody>\n",
       "</table>\n",
       "</div>"
      ],
      "text/plain": [
       "   Abdômen  Fisioterapia  Musculação  RPG  Spinning\n",
       "0       25            50          35   60        40\n",
       "1       40            25          80   15        20"
      ]
     },
     "execution_count": 4,
     "metadata": {},
     "output_type": "execute_result"
    }
   ],
   "source": [
    "import pandas as pd\n",
    "\n",
    "modalidades = {\"Musculação\": [35, 80],\n",
    "               \"Spinning\": [40, 20],\n",
    "               \"Abdômen\": [25, 40],\n",
    "               \"Fisioterapia\": [50, 25],\n",
    "               \"RPG\": [60,15]}\n",
    "df = pd.DataFrame(modalidades)\n",
    "df"
   ]
  },
  {
   "cell_type": "markdown",
   "metadata": {},
   "source": [
    "A primeira linha da tabela anterior mostra a receita de cada modalidade em Reais e a segunda o número máximo de alunos que podem praticar cada uma ao mesmo tempo."
   ]
  },
  {
   "cell_type": "markdown",
   "metadata": {},
   "source": [
    "As modalidade de RPG e Fisioterapia compartilham os mesmos professores e espaço físico, de modo que juntas o número máximo de alunos não pode ultrapassar o valor de 30."
   ]
  },
  {
   "cell_type": "markdown",
   "metadata": {},
   "source": [
    "Para maximar a receita da academia no período noturmo, para cada modalidade será atribuído um nome da variável conforme é mostrado a seguir:\n",
    "\n",
    "* x1 = Abdômen\n",
    "* x2 = Fisioterapia\n",
    "* x3 = Musculação\n",
    "* x4 = RPG\n",
    "* x5 = Spinning\n",
    "\n",
    "Além disso, a seguinte função deverá ser utilizada para o cálculo da receita a ser maximizada:\n",
    "\n",
    "f = 25x1 + 50x2 + 35x3 + 60x4 + 40x5"
   ]
  },
  {
   "cell_type": "markdown",
   "metadata": {},
   "source": [
    "A definição dos valores de todas as variáveis estará sujeita às seguintes restrições:\n",
    "\n",
    "* x1 + x2 + x3 + x4 + x5 <= 120 (número máximo de alunos permitidos para o período noturno)\n",
    "* x1 <= 40 (número máximo de alunos para a modalidade Abdômen)\n",
    "* x2 <= 25 (número máximo de alunos para a modalidade Fisioterapia)\n",
    "* x3 <= 80 (número máximo de alunos para a modalidade Musculação)\n",
    "* x4 <= 15 (número máximo de alunos para a modalidade RPG)\n",
    "* x5 <= 20 (número máximo de alunos para a modalidade Spinning)\n",
    "* x4 + x5 <= 30 (RPG + Spinning podem ter no máximo 30 alunos)"
   ]
  },
  {
   "cell_type": "markdown",
   "metadata": {},
   "source": [
    "Com o problema definido á possível criar o Algoritmo Genético que tentará descobrir uma solução ótima, ou quase ótima, para o mesmo."
   ]
  },
  {
   "cell_type": "code",
   "execution_count": 16,
   "metadata": {},
   "outputs": [
    {
     "name": "stdout",
     "output_type": "stream",
     "text": [
      "x1: 32.000000    x2: 22.000000    x3: 47.000000    x4: 15.000000    x5: 4.000000\n",
      "Receita: R$4605.000000\n"
     ]
    }
   ],
   "source": [
    "from PyGARV import *\n",
    "\n",
    "class AGAcademia(PyGARV):\n",
    "    def __init__(self):\n",
    "        super().__init__(popSize=15,\n",
    "                         values=5,\n",
    "                         mutationRate=0.2,\n",
    "                         fullMutation=True,\n",
    "                         symmetricCut=False,\n",
    "                         elitism=0.2,\n",
    "                         digits=2)\n",
    "        \n",
    "        self.receita = []\n",
    "        \n",
    "    def fitness(self, cromossomo):\n",
    "        x1 = cromossomo[0]\n",
    "        x2 = cromossomo[1]\n",
    "        x3 = cromossomo[2]\n",
    "        x4 = cromossomo[3]\n",
    "        x5 = cromossomo[4]\n",
    "        \n",
    "        f = 25*x1 + 50*x2 + 35*x3 + 60*x4 + 40*x5\n",
    "        \n",
    "        if(\n",
    "            x1 + x2 + x3 + x4 + x5 <= 120 and\n",
    "            x2 <= 25 and\n",
    "            x3 <= 80 and\n",
    "            x4 <= 15 and\n",
    "            x5 <= 20 and\n",
    "            x4 + x5 <= 30\n",
    "        ):\n",
    "            \n",
    "            self.nota = 1000 + f\n",
    "            \n",
    "        else:\n",
    "            \n",
    "            self.nota = 0.001\n",
    "            \n",
    "        return [cromossomo, self.nota]\n",
    "    \n",
    "    def finishedGeneration(self, melhorCromossomo):\n",
    "        x1 = melhorCromossomo[0]\n",
    "        x2 = melhorCromossomo[1]\n",
    "        x3 = melhorCromossomo[2]\n",
    "        x4 = melhorCromossomo[3]\n",
    "        x5 = melhorCromossomo[4]\n",
    "        \n",
    "        f = 25*x1 + 50*x2 + 35*x3 + 60*x4 + 40*x5\n",
    "        \n",
    "        if(self.nota != 0.001):\n",
    "            self.receita.append(f)\n",
    "        \n",
    "    def finishedGA(self, melhorCromossomo):\n",
    "        self.x1 = melhorCromossomo[0]\n",
    "        self.x2 = melhorCromossomo[1]\n",
    "        self.x3 = melhorCromossomo[2]\n",
    "        self.x4 = melhorCromossomo[3]\n",
    "        self.x5 = melhorCromossomo[4]\n",
    "\n",
    "        self.f = 25*self.x1 + 50*self.x2 + 35*self.x3 + 60*self.x4 + 40*self.x5\n",
    "\n",
    "        print(\"x1: %f    x2: %f    x3: %f    x4: %f    x5: %f\" % (self.x1,\n",
    "                                                                  self.x2,\n",
    "                                                                  self.x3,\n",
    "                                                                  self.x4,\n",
    "                                                                  self.x5))\n",
    "        \n",
    "        print(\"Receita: R$%f\" % (round(self.f, 2)))\n",
    "        \n",
    "pygarv = AGAcademia()\n",
    "pygarv.runGA(300)  # Executa o Algoritmo Genético por 300 gerações"
   ]
  },
  {
   "cell_type": "markdown",
   "metadata": {},
   "source": [
    "O Algoritmo Genético chegou ao valor de receita e aos números de alunos para cada modalidade conforme pode ser visto logo acima. Para visualizar o processo de busca da solução utilizado pelo Algoritmo Genético será utilizado um gráfico apresentando a evolução da receita ao longo das 300 gerações."
   ]
  },
  {
   "cell_type": "code",
   "execution_count": 17,
   "metadata": {},
   "outputs": [
    {
     "data": {
      "image/png": "[encoded data removed]",
      "text/plain": [
       "<matplotlib.figure.Figure at 0x1153de0b8>"
      ]
     },
     "metadata": {},
     "output_type": "display_data"
    }
   ],
   "source": [
    "import matplotlib.pyplot as plt\n",
    "\n",
    "plt.plot(pygarv.receita)\n",
    "plt.grid()\n",
    "plt.show()"
   ]
  },
  {
   "cell_type": "markdown",
   "metadata": {},
   "source": [
    "É importante destacar que nem sempre um Algoritmo Genético encontra a solução ótima, mas que na maioria das vezes encontra uma solução muito próxima da ótima, ou seja, quase ótima."
   ]
  }
 ],
 "metadata": {
  "kernelspec": {
   "display_name": "Python 3",
   "language": "python",
   "name": "python3"
  },
  "language_info": {
   "codemirror_mode": {
    "name": "ipython",
    "version": 3
   },
   "file_extension": ".py",
   "mimetype": "text/x-python",
   "name": "python",
   "nbconvert_exporter": "python",
   "pygments_lexer": "ipython3",
   "version": "3.6.1"
  }
 },
 "nbformat": 4,
 "nbformat_minor": 2
}
