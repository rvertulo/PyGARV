{
 "cells": [
  {
   "cell_type": "markdown",
   "metadata": {},
   "source": [
    "# Otimização do Lucro de um Sapateiro Utilizando um Algoritmo Genético\n",
    "\n",
    "Documento criado por __Rodrigo Cesar Vertulo__ em 15 de Novembro de 2019."
   ]
  },
  {
   "cell_type": "markdown",
   "metadata": {},
   "source": [
    "O enunciado do estudo de caso apresentado nesse documento foi retirado do livro \"Pesquisa Operacional para os cursos de: Economia, Administração e Ciências Contábeis\" dos autores Ermes Medeiros da Silva, Elio Medeiros da Silva e Afrânio Carlos Murolo.\n",
    "\n",
    "O problema apresentado foi resolvido pelos autores utilizando programação linear e nesse documento apresentarei uma alternativa para a sua resolução utilizando um Algoritmo Genético implementado com a linguagem de programação Python e a biblioteca <a href=\"https://github.com/rvertulo/PyGARV\" taget=\"_new\">PyGARV</a>. O objetivo é verificar e comparar os resultados obtidos pelas duas abordagens.\n",
    "\n",
    "O enunciado do problema é o seguinte: \"Um sapateiro faz 6 sapatos por hora, se fizer somente sapatos, e 5 cintos por hora, se fizer somente cintos. Ele gasta 2 unidades de couro para fabricar 1 unidade de sapato e 1 unidade de couro para fabricar uma unidade de cinto. Sabendo-se que o total disponível de couro é de 6 unidades e que o lucro unitário por sapato é de 5 unidades monetárias e o do cinto é de 2 unidades monetárias, quantas unidades de sapatos e de cintos o sapateiro deverá produzir para maximizar o seu lucro por hora?\"\n",
    "\n",
    "A modelagem do sistema é a seguinte:\n",
    "\n",
    "* x1 = número de sapatos a serem produzidos\n",
    "* x2 = número de cintos a serem produzidos\n",
    "\n",
    "__max. Lucro = 5x1 + 2x2__\n",
    "\n",
    "Sujeito a:\n",
    "\n",
    "* 10x1 + 12x2 <= 60 (restrição do tempo gasto em minutos para produzir cada item por hora)\n",
    "* 2x1 + 1x2 <= 6 (restrição da quantidade de couro disponível)\n",
    "* x1 >= 0 (não é possível produzir um número negativo de sapatos)\n",
    "* x2 >= 0 (não é possível produzir um número negativo de cintos)"
   ]
  },
  {
   "cell_type": "markdown",
   "metadata": {},
   "source": [
    "O Algoritmo Genético utilizará cromossomos contendo dois valores inteiros e positivos variando de 0 a 99, tendo em vista que observando-se as restrições do problema nenhuma das variáveis poderá assumir valores menores do que zero ou superiores a 99 sem que alguma delas seja desrespeitada."
   ]
  },
  {
   "cell_type": "markdown",
   "metadata": {},
   "source": [
    "O código a seguir implementa a solução para o problema."
   ]
  },
  {
   "cell_type": "code",
   "execution_count": 7,
   "metadata": {},
   "outputs": [
    {
     "name": "stdout",
     "output_type": "stream",
     "text": [
      "Lucro: 15   x1: 3    x2: 0\n"
     ]
    },
    {
     "data": {
      "image/png": "[encoded data removed]",
      "text/plain": [
       "<matplotlib.figure.Figure at 0x108a86278>"
      ]
     },
     "metadata": {},
     "output_type": "display_data"
    }
   ],
   "source": [
    "from PyGARV import *\n",
    "import matplotlib.pyplot as plt\n",
    "\n",
    "class Example_PO3(PyGARV):\n",
    "    def __init__(self):\n",
    "        super().__init__(popSize=30,\n",
    "                         values=2,\n",
    "                         mutationRate=0.2,\n",
    "                         fullMutation=True,\n",
    "                         symmetricCut=False,\n",
    "                         elitism=0.1,\n",
    "                         digits=2)\n",
    "        \n",
    "        self.valores = []\n",
    "        \n",
    "    def fitness(self, cromossomo):\n",
    "        x1 = cromossomo[0]\n",
    "        x2 = cromossomo[1]\n",
    "        \n",
    "        f = 5*x1 + 2*x2\n",
    "        \n",
    "        if(\n",
    "            10*x1 + 12*x2 <= 60 and\n",
    "            2*x1 + 1*x2 <= 6 and\n",
    "            x1 >= 0 and\n",
    "            x2 >= 0\n",
    "        ):\n",
    "            \n",
    "            self.nota = f\n",
    "            \n",
    "        else:\n",
    "            self.nota = 1/(f+1)\n",
    "            \n",
    "        return [cromossomo, self.nota]\n",
    "    \n",
    "    def finishedGeneration(self, melhorCromossomo):\n",
    "        self.x1 = melhorCromossomo[0]\n",
    "        self.x2 = melhorCromossomo[1]\n",
    "        \n",
    "        self.f = 5*self.x1 + 2*self.x2\n",
    "        \n",
    "        if self.nota > 1:\n",
    "            self.valores.append(self.f)\n",
    "\n",
    "            \n",
    "pygarv = Example_PO3()\n",
    "pygarv.runGA(150)\n",
    "\n",
    "print(\"Lucro: %i   x1: %i    x2: %i\" % (pygarv.f, pygarv.x1, pygarv.x2))\n",
    "plt.plot(pygarv.valores)\n",
    "plt.show()"
   ]
  },
  {
   "cell_type": "markdown",
   "metadata": {},
   "source": [
    "As soluções obtidas por Algoritmos Genéticos nem sempre são ótimas, porém, normalmente chegam muito próximas ao resultado ótimo. No caso deste estudo de caso o Algoritmo Genético chegou à solução ótima, obtendo o mesmo resultado apresentado pelos autores do livro utilizando 150 gerações."
   ]
  }
 ],
 "metadata": {
  "kernelspec": {
   "display_name": "Python 3",
   "language": "python",
   "name": "python3"
  },
  "language_info": {
   "codemirror_mode": {
    "name": "ipython",
    "version": 3
   },
   "file_extension": ".py",
   "mimetype": "text/x-python",
   "name": "python",
   "nbconvert_exporter": "python",
   "pygments_lexer": "ipython3",
   "version": "3.6.1"
  }
 },
 "nbformat": 4,
 "nbformat_minor": 2
}
