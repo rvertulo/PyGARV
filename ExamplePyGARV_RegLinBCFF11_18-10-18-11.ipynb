{
 "cells": [
  {
   "cell_type": "markdown",
   "metadata": {},
   "source": [
    "# Análise e Previsão por Regressão Linear Para BCFF11\n",
    "\n",
    "## Coeficientes Ajustados por um Algoritmo Genético"
   ]
  },
  {
   "cell_type": "markdown",
   "metadata": {},
   "source": [
    "Documento criado por <b>Rodrigo Vertulo</b> em 18 de Novembro de 2019."
   ]
  },
  {
   "cell_type": "markdown",
   "metadata": {},
   "source": [
    "Neste documento será apresentada uma análise do ativo BCFF11 no período de 18/10/2019 até 18/11/2019 utilizando um modelo de Regressão Linear Simples com coeficientes ajustados por meio de um Algoritmo Genético. Para esse desenvolvimento foi utilizada a linguagem de programação Python com a <a href=\"https://github.com/rvertulo/PyGARV\">Biblioteca para Algoritmos Genéticos PyGARV</a>."
   ]
  },
  {
   "cell_type": "markdown",
   "metadata": {},
   "source": [
    "A primeira etapa do projeto consiste em importar as bibliotecas necessárias para o trabalho."
   ]
  },
  {
   "cell_type": "code",
   "execution_count": 1,
   "metadata": {
    "collapsed": true
   },
   "outputs": [],
   "source": [
    "import pandas as pd\n",
    "import matplotlib.pyplot as plt\n",
    "import numpy as np\n",
    "from PyGARV import *\n",
    "import math"
   ]
  },
  {
   "cell_type": "markdown",
   "metadata": {},
   "source": [
    "Agora é preciso carregar o dataset contendo os dados que serão analisados."
   ]
  },
  {
   "cell_type": "code",
   "execution_count": 2,
   "metadata": {
    "collapsed": true
   },
   "outputs": [],
   "source": [
    "precos = pd.read_csv('dataset_BCFF11_18-10-18-11.csv')"
   ]
  },
  {
   "cell_type": "markdown",
   "metadata": {},
   "source": [
    "Vamos dar uma olhada no conteúdo do arquivo de dados exibindo as 10 primeiras linhas do mesmo."
   ]
  },
  {
   "cell_type": "code",
   "execution_count": 3,
   "metadata": {},
   "outputs": [
    {
     "data": {
      "text/html": [
       "<div>\n",
       "<style>\n",
       "    .dataframe thead tr:only-child th {\n",
       "        text-align: right;\n",
       "    }\n",
       "\n",
       "    .dataframe thead th {\n",
       "        text-align: left;\n",
       "    }\n",
       "\n",
       "    .dataframe tbody tr th {\n",
       "        vertical-align: top;\n",
       "    }\n",
       "</style>\n",
       "<table border=\"1\" class=\"dataframe\">\n",
       "  <thead>\n",
       "    <tr style=\"text-align: right;\">\n",
       "      <th></th>\n",
       "      <th>Data</th>\n",
       "      <th>Valor</th>\n",
       "    </tr>\n",
       "  </thead>\n",
       "  <tbody>\n",
       "    <tr>\n",
       "      <th>0</th>\n",
       "      <td>18.10.2019</td>\n",
       "      <td>94,4</td>\n",
       "    </tr>\n",
       "    <tr>\n",
       "      <th>1</th>\n",
       "      <td>21.10.2019</td>\n",
       "      <td>94,4</td>\n",
       "    </tr>\n",
       "    <tr>\n",
       "      <th>2</th>\n",
       "      <td>22.10.2019</td>\n",
       "      <td>94,38</td>\n",
       "    </tr>\n",
       "    <tr>\n",
       "      <th>3</th>\n",
       "      <td>23.10.2019</td>\n",
       "      <td>94,72</td>\n",
       "    </tr>\n",
       "    <tr>\n",
       "      <th>4</th>\n",
       "      <td>24.10.2019</td>\n",
       "      <td>95,29</td>\n",
       "    </tr>\n",
       "    <tr>\n",
       "      <th>5</th>\n",
       "      <td>25.10.2019</td>\n",
       "      <td>95,02</td>\n",
       "    </tr>\n",
       "    <tr>\n",
       "      <th>6</th>\n",
       "      <td>28.10.2019</td>\n",
       "      <td>95,4</td>\n",
       "    </tr>\n",
       "    <tr>\n",
       "      <th>7</th>\n",
       "      <td>29.10.2019</td>\n",
       "      <td>96,65</td>\n",
       "    </tr>\n",
       "    <tr>\n",
       "      <th>8</th>\n",
       "      <td>30.10.2019</td>\n",
       "      <td>98,49</td>\n",
       "    </tr>\n",
       "    <tr>\n",
       "      <th>9</th>\n",
       "      <td>31.10.2019</td>\n",
       "      <td>98,78</td>\n",
       "    </tr>\n",
       "  </tbody>\n",
       "</table>\n",
       "</div>"
      ],
      "text/plain": [
       "         Data  Valor\n",
       "0  18.10.2019   94,4\n",
       "1  21.10.2019   94,4\n",
       "2  22.10.2019  94,38\n",
       "3  23.10.2019  94,72\n",
       "4  24.10.2019  95,29\n",
       "5  25.10.2019  95,02\n",
       "6  28.10.2019   95,4\n",
       "7  29.10.2019  96,65\n",
       "8  30.10.2019  98,49\n",
       "9  31.10.2019  98,78"
      ]
     },
     "execution_count": 3,
     "metadata": {},
     "output_type": "execute_result"
    }
   ],
   "source": [
    "precos.head(10)"
   ]
  },
  {
   "cell_type": "markdown",
   "metadata": {},
   "source": [
    "Podemos observar que o arquivo é formado por duas colunas, uma chamada \"Data\" e outra \"Valor\". A coluna \"Data\" não será necessária para essa análise inicial, de modo que ela será removida."
   ]
  },
  {
   "cell_type": "code",
   "execution_count": 4,
   "metadata": {},
   "outputs": [
    {
     "data": {
      "text/html": [
       "<div>\n",
       "<style>\n",
       "    .dataframe thead tr:only-child th {\n",
       "        text-align: right;\n",
       "    }\n",
       "\n",
       "    .dataframe thead th {\n",
       "        text-align: left;\n",
       "    }\n",
       "\n",
       "    .dataframe tbody tr th {\n",
       "        vertical-align: top;\n",
       "    }\n",
       "</style>\n",
       "<table border=\"1\" class=\"dataframe\">\n",
       "  <thead>\n",
       "    <tr style=\"text-align: right;\">\n",
       "      <th></th>\n",
       "      <th>Valor</th>\n",
       "    </tr>\n",
       "  </thead>\n",
       "  <tbody>\n",
       "    <tr>\n",
       "      <th>0</th>\n",
       "      <td>94,4</td>\n",
       "    </tr>\n",
       "    <tr>\n",
       "      <th>1</th>\n",
       "      <td>94,4</td>\n",
       "    </tr>\n",
       "    <tr>\n",
       "      <th>2</th>\n",
       "      <td>94,38</td>\n",
       "    </tr>\n",
       "    <tr>\n",
       "      <th>3</th>\n",
       "      <td>94,72</td>\n",
       "    </tr>\n",
       "    <tr>\n",
       "      <th>4</th>\n",
       "      <td>95,29</td>\n",
       "    </tr>\n",
       "    <tr>\n",
       "      <th>5</th>\n",
       "      <td>95,02</td>\n",
       "    </tr>\n",
       "    <tr>\n",
       "      <th>6</th>\n",
       "      <td>95,4</td>\n",
       "    </tr>\n",
       "    <tr>\n",
       "      <th>7</th>\n",
       "      <td>96,65</td>\n",
       "    </tr>\n",
       "    <tr>\n",
       "      <th>8</th>\n",
       "      <td>98,49</td>\n",
       "    </tr>\n",
       "    <tr>\n",
       "      <th>9</th>\n",
       "      <td>98,78</td>\n",
       "    </tr>\n",
       "  </tbody>\n",
       "</table>\n",
       "</div>"
      ],
      "text/plain": [
       "   Valor\n",
       "0   94,4\n",
       "1   94,4\n",
       "2  94,38\n",
       "3  94,72\n",
       "4  95,29\n",
       "5  95,02\n",
       "6   95,4\n",
       "7  96,65\n",
       "8  98,49\n",
       "9  98,78"
      ]
     },
     "execution_count": 4,
     "metadata": {},
     "output_type": "execute_result"
    }
   ],
   "source": [
    "precos.drop(\"Data\", axis=1, inplace=True)\n",
    "precos.head(10)"
   ]
  },
  {
   "cell_type": "markdown",
   "metadata": {},
   "source": [
    "A coluna valor apresenta como separador decimal o caractere \",\" e é necessário converte-lo para \".\" para que os cálculos matemáticos sejam feitos corretamente."
   ]
  },
  {
   "cell_type": "code",
   "execution_count": 5,
   "metadata": {},
   "outputs": [
    {
     "data": {
      "text/html": [
       "<div>\n",
       "<style>\n",
       "    .dataframe thead tr:only-child th {\n",
       "        text-align: right;\n",
       "    }\n",
       "\n",
       "    .dataframe thead th {\n",
       "        text-align: left;\n",
       "    }\n",
       "\n",
       "    .dataframe tbody tr th {\n",
       "        vertical-align: top;\n",
       "    }\n",
       "</style>\n",
       "<table border=\"1\" class=\"dataframe\">\n",
       "  <thead>\n",
       "    <tr style=\"text-align: right;\">\n",
       "      <th></th>\n",
       "      <th>Valor</th>\n",
       "    </tr>\n",
       "  </thead>\n",
       "  <tbody>\n",
       "    <tr>\n",
       "      <th>0</th>\n",
       "      <td>94.40</td>\n",
       "    </tr>\n",
       "    <tr>\n",
       "      <th>1</th>\n",
       "      <td>94.40</td>\n",
       "    </tr>\n",
       "    <tr>\n",
       "      <th>2</th>\n",
       "      <td>94.38</td>\n",
       "    </tr>\n",
       "    <tr>\n",
       "      <th>3</th>\n",
       "      <td>94.72</td>\n",
       "    </tr>\n",
       "    <tr>\n",
       "      <th>4</th>\n",
       "      <td>95.29</td>\n",
       "    </tr>\n",
       "    <tr>\n",
       "      <th>5</th>\n",
       "      <td>95.02</td>\n",
       "    </tr>\n",
       "    <tr>\n",
       "      <th>6</th>\n",
       "      <td>95.40</td>\n",
       "    </tr>\n",
       "    <tr>\n",
       "      <th>7</th>\n",
       "      <td>96.65</td>\n",
       "    </tr>\n",
       "    <tr>\n",
       "      <th>8</th>\n",
       "      <td>98.49</td>\n",
       "    </tr>\n",
       "    <tr>\n",
       "      <th>9</th>\n",
       "      <td>98.78</td>\n",
       "    </tr>\n",
       "  </tbody>\n",
       "</table>\n",
       "</div>"
      ],
      "text/plain": [
       "   Valor\n",
       "0  94.40\n",
       "1  94.40\n",
       "2  94.38\n",
       "3  94.72\n",
       "4  95.29\n",
       "5  95.02\n",
       "6  95.40\n",
       "7  96.65\n",
       "8  98.49\n",
       "9  98.78"
      ]
     },
     "execution_count": 5,
     "metadata": {},
     "output_type": "execute_result"
    }
   ],
   "source": [
    "precos[\"Valor\"] = precos[\"Valor\"].str.replace(\",\", \".\")\n",
    "precos[\"Valor\"] = precos[\"Valor\"].astype(\"float\")\n",
    "precos.head(10)"
   ]
  },
  {
   "cell_type": "markdown",
   "metadata": {},
   "source": [
    "Agora vamos observar algumas informações estatísticas sobre a coluna \"valor\" do dataset."
   ]
  },
  {
   "cell_type": "code",
   "execution_count": 6,
   "metadata": {},
   "outputs": [
    {
     "data": {
      "text/html": [
       "<div>\n",
       "<style>\n",
       "    .dataframe thead tr:only-child th {\n",
       "        text-align: right;\n",
       "    }\n",
       "\n",
       "    .dataframe thead th {\n",
       "        text-align: left;\n",
       "    }\n",
       "\n",
       "    .dataframe tbody tr th {\n",
       "        vertical-align: top;\n",
       "    }\n",
       "</style>\n",
       "<table border=\"1\" class=\"dataframe\">\n",
       "  <thead>\n",
       "    <tr style=\"text-align: right;\">\n",
       "      <th></th>\n",
       "      <th>Valor</th>\n",
       "    </tr>\n",
       "  </thead>\n",
       "  <tbody>\n",
       "    <tr>\n",
       "      <th>count</th>\n",
       "      <td>21.000000</td>\n",
       "    </tr>\n",
       "    <tr>\n",
       "      <th>mean</th>\n",
       "      <td>99.834286</td>\n",
       "    </tr>\n",
       "    <tr>\n",
       "      <th>std</th>\n",
       "      <td>4.335714</td>\n",
       "    </tr>\n",
       "    <tr>\n",
       "      <th>min</th>\n",
       "      <td>94.380000</td>\n",
       "    </tr>\n",
       "    <tr>\n",
       "      <th>25%</th>\n",
       "      <td>95.290000</td>\n",
       "    </tr>\n",
       "    <tr>\n",
       "      <th>50%</th>\n",
       "      <td>99.710000</td>\n",
       "    </tr>\n",
       "    <tr>\n",
       "      <th>75%</th>\n",
       "      <td>103.460000</td>\n",
       "    </tr>\n",
       "    <tr>\n",
       "      <th>max</th>\n",
       "      <td>106.400000</td>\n",
       "    </tr>\n",
       "  </tbody>\n",
       "</table>\n",
       "</div>"
      ],
      "text/plain": [
       "            Valor\n",
       "count   21.000000\n",
       "mean    99.834286\n",
       "std      4.335714\n",
       "min     94.380000\n",
       "25%     95.290000\n",
       "50%     99.710000\n",
       "75%    103.460000\n",
       "max    106.400000"
      ]
     },
     "execution_count": 6,
     "metadata": {},
     "output_type": "execute_result"
    }
   ],
   "source": [
    "precos.describe()"
   ]
  },
  {
   "cell_type": "markdown",
   "metadata": {},
   "source": [
    "Agora é possível traçar um gráfico de linhas de forma muito simples."
   ]
  },
  {
   "cell_type": "code",
   "execution_count": 7,
   "metadata": {},
   "outputs": [
    {
     "data": {
      "image/png": "[encoded data removed]",
      "text/plain": [
       "<matplotlib.figure.Figure at 0x1179f80b8>"
      ]
     },
     "metadata": {},
     "output_type": "display_data"
    }
   ],
   "source": [
    "precos.plot()\n",
    "plt.title(\"Preços entre 01/10/2019 e 01/11/2019\")\n",
    "plt.xlabel(\"Dia\")\n",
    "plt.ylabel(\"Preço\")\n",
    "plt.grid()\n",
    "plt.show()"
   ]
  },
  {
   "cell_type": "markdown",
   "metadata": {},
   "source": [
    "Para a criação da Regressão Linear, é mais interessante exibir os dados em um gráfico do tipo \"scatter\"."
   ]
  },
  {
   "cell_type": "code",
   "execution_count": 8,
   "metadata": {},
   "outputs": [
    {
     "data": {
      "image/png": "[encoded data removed]",
      "text/plain": [
       "<matplotlib.figure.Figure at 0x117acccf8>"
      ]
     },
     "metadata": {},
     "output_type": "display_data"
    }
   ],
   "source": [
    "plt.scatter(np.arange(len(precos)), precos.iloc[::1])\n",
    "plt.title(\"Preços entre 18/10/2019 e 18/11/2019\")\n",
    "plt.xlabel(\"Dia\")\n",
    "plt.ylabel(\"Preço\")\n",
    "plt.grid()\n",
    "plt.show()"
   ]
  },
  {
   "cell_type": "markdown",
   "metadata": {},
   "source": [
    "Com o dataset \"preparado\" é possível criar a classe que implementará o algoritmo genético para a criação do modelo de regressão linear."
   ]
  },
  {
   "cell_type": "code",
   "execution_count": 9,
   "metadata": {
    "collapsed": true
   },
   "outputs": [],
   "source": [
    "class RegLinearBCFF11(PyGARV):\n",
    "    def __init__(self, precos):\n",
    "        super().__init__(popSize=25,\n",
    "                         values=3,\n",
    "                         mutationRate=0.25,\n",
    "                         fullMutation=True,\n",
    "                         symmetricCut=False,\n",
    "                         digits=6)\n",
    "        \n",
    "        self.precos = precos\n",
    "        \n",
    "    def fitness(self, cromossomo):\n",
    "        b0 = cromossomo[0] / 100\n",
    "        \n",
    "        sinalb1 = -1 if cromossomo[1] % 2 == 0 else 1\n",
    "        b1 = sinalb1 * (cromossomo[2] / 100)\n",
    "\n",
    "        err = self.erro(b0, b1)\n",
    "        nota =  10000 - err\n",
    "            \n",
    "        if nota <= 0:\n",
    "            nota = 0.001\n",
    "            \n",
    "        return [cromossomo, nota]\n",
    "        \n",
    "    def finishedGA(self, melhorCromossomo):\n",
    "        self.b0 = melhorCromossomo[0] / 100\n",
    "        \n",
    "        sinalb1 = -1 if melhorCromossomo[1] % 2 == 0 else 1\n",
    "        self.b1 = sinalb1 * (melhorCromossomo[2] / 100)\n",
    "\n",
    "    def erro(self, b0, b1):\n",
    "        erro = 0\n",
    "        x = 0\n",
    "        for i, p in self.precos.iterrows():\n",
    "            erro = erro + math.sqrt(pow( (b0 + (b1 * x)) - p[\"Valor\"], 2 ))\n",
    "            x = x + 1\n",
    "            \n",
    "        return erro / x"
   ]
  },
  {
   "cell_type": "markdown",
   "metadata": {},
   "source": [
    "O algoritmo genético será executado por algumas gerações para encontrar os coeficientes da regressão linear."
   ]
  },
  {
   "cell_type": "code",
   "execution_count": 11,
   "metadata": {},
   "outputs": [
    {
     "name": "stdout",
     "output_type": "stream",
     "text": [
      "0.8099999999999996 100\n",
      "0.8038095238095236 200\n",
      "0.8038095238095236 300\n",
      "0.8038095238095236 400\n",
      "0.8038095238095236 500\n",
      "0.8038095238095236 600\n",
      "0.8038095238095236 700\n",
      "0.8038095238095236 800\n",
      "0.8038095238095236 900\n",
      "0.8038095238095236 1000\n"
     ]
    }
   ],
   "source": [
    "pygarv = RegLinearBCFF11(precos.iloc[::1])\n",
    "geracoes = 1\n",
    "while geracoes < 1000:\n",
    "    pygarv.runGA(1)\n",
    "    geracoes = geracoes + 1\n",
    "    erro = pygarv.erro(pygarv.b0, pygarv.b1)\n",
    "    if geracoes % 100 == 0:\n",
    "        print(erro, geracoes)"
   ]
  },
  {
   "cell_type": "markdown",
   "metadata": {},
   "source": [
    "Depois que o algoritmo genético termina a execução de todas as gerações é possível verificar os valores dos coeficientes encontrados por ele."
   ]
  },
  {
   "cell_type": "code",
   "execution_count": 12,
   "metadata": {},
   "outputs": [
    {
     "name": "stdout",
     "output_type": "stream",
     "text": [
      "b0: 93.440000    b1:0.630000\n"
     ]
    }
   ],
   "source": [
    "print(\"b0: %f    b1:%f\" % (pygarv.b0, pygarv.b1))"
   ]
  },
  {
   "cell_type": "markdown",
   "metadata": {},
   "source": [
    "Com os coeficientes calculados é possível gerar os valores para a plotagem da reta da regressão linear."
   ]
  },
  {
   "cell_type": "code",
   "execution_count": 13,
   "metadata": {
    "collapsed": true
   },
   "outputs": [],
   "source": [
    "y = []\n",
    "for x in range(len(precos)):\n",
    "    y.append(pygarv.b0 + pygarv.b1 * x)"
   ]
  },
  {
   "cell_type": "markdown",
   "metadata": {},
   "source": [
    "Finalmente é possível traçar o gráfico da regressão linear."
   ]
  },
  {
   "cell_type": "code",
   "execution_count": 14,
   "metadata": {},
   "outputs": [
    {
     "data": {
      "image/png": "[encoded data removed]",
      "text/plain": [
       "<matplotlib.figure.Figure at 0x117af3668>"
      ]
     },
     "metadata": {},
     "output_type": "display_data"
    }
   ],
   "source": [
    "plt.title(\"Preços entre 18/10/2019 e 18/11/2019\")\n",
    "plt.xlabel(\"Dia\")\n",
    "plt.ylabel(\"Preço\")\n",
    "plt.grid()\n",
    "plt.scatter(np.arange(len(precos)), precos.iloc[::1])\n",
    "plt.plot(y, color = \"r\")\n",
    "plt.show()"
   ]
  },
  {
   "cell_type": "markdown",
   "metadata": {},
   "source": [
    "A reta da Regressão Linear obtida permite realizar a previsão do preço do ativo para o próximo dia."
   ]
  },
  {
   "cell_type": "code",
   "execution_count": 15,
   "metadata": {},
   "outputs": [
    {
     "name": "stdout",
     "output_type": "stream",
     "text": [
      "Previsão do preço do ativo para o próximo dia: $106.670000\n"
     ]
    }
   ],
   "source": [
    "previsao = pygarv.b0 + pygarv.b1 * len(precos)\n",
    "print(\"Previsão do preço do ativo para o próximo dia: $%f\" % (round(previsao, 2)))"
   ]
  },
  {
   "cell_type": "markdown",
   "metadata": {},
   "source": [
    "Apesar do ajuste da reta da regressão linear parecer bom, é importante ter em mente que há um erro inerente ao modelo. Os pontos do gráfico não são perfeitamente alinhados, de modo que o preço previsto utilizando-se esse modelo fica dentro de uma faixa de valores que pode ser obtida da seguinte forma:"
   ]
  },
  {
   "cell_type": "code",
   "execution_count": 16,
   "metadata": {},
   "outputs": [
    {
     "data": {
      "text/plain": [
       "0.8038095238095236"
      ]
     },
     "execution_count": 16,
     "metadata": {},
     "output_type": "execute_result"
    }
   ],
   "source": [
    "erro = pygarv.erro(pygarv.b0, pygarv.b1)\n",
    "erro"
   ]
  },
  {
   "cell_type": "markdown",
   "metadata": {},
   "source": [
    "A partir desse valor de erro é possível traçar um novo gráfico contemplando esse desvio."
   ]
  },
  {
   "cell_type": "code",
   "execution_count": 17,
   "metadata": {},
   "outputs": [
    {
     "data": {
      "image/png": "[encoded data removed]",
      "text/plain": [
       "<matplotlib.figure.Figure at 0x117db9fd0>"
      ]
     },
     "metadata": {},
     "output_type": "display_data"
    }
   ],
   "source": [
    "yDesvioAcima = []\n",
    "for x in range(len(precos)):\n",
    "    yDesvioAcima.append((pygarv.b0 + pygarv.b1 * x) + erro)\n",
    "    \n",
    "yDesvioAbaixo = []\n",
    "for x in range(len(precos)):\n",
    "    yDesvioAbaixo.append((pygarv.b0 + pygarv.b1 * x) - erro)\n",
    "    \n",
    "plt.title(\"Preços entre 01/10/2019 e 11/11/2019\")\n",
    "plt.xlabel(\"Dia\")\n",
    "plt.ylabel(\"Preço\")\n",
    "plt.grid()\n",
    "plt.scatter(np.arange(len(precos)), precos.iloc[::1])\n",
    "plt.plot(y, color = \"r\")\n",
    "plt.plot(yDesvioAcima, color = \"g\")\n",
    "plt.plot(yDesvioAbaixo, color = \"g\")\n",
    "plt.show()"
   ]
  },
  {
   "cell_type": "markdown",
   "metadata": {},
   "source": [
    "Com essa nova informação é possível definir com um pouco mais de precisão a faixa de valores em que o ativo se encontrará no próximo dia."
   ]
  },
  {
   "cell_type": "code",
   "execution_count": 18,
   "metadata": {},
   "outputs": [
    {
     "name": "stdout",
     "output_type": "stream",
     "text": [
      "Previsão do preço do ativo para o próximo dia: $105.870000 <= $106.670000 <= $107.470000\n"
     ]
    }
   ],
   "source": [
    "limiteInferior = previsao - erro\n",
    "limiteSuperior = previsao + erro\n",
    "print(\"Previsão do preço do ativo para o próximo dia: $%f <= $%f <= $%f\" % (round(limiteInferior, 2), \n",
    "                                                                                 round(previsao, 2), \n",
    "                                                                                 round(limiteSuperior, 2)))"
   ]
  },
  {
   "cell_type": "markdown",
   "metadata": {},
   "source": [
    "Não podemos esquecer que os valores presentes no dataset apresentam um desvio padrão que pode ser muito útil para refinar a análise da previsão do preço. O desvio padrão pode ser obtido da seguinte forma:"
   ]
  },
  {
   "cell_type": "code",
   "execution_count": 19,
   "metadata": {},
   "outputs": [
    {
     "data": {
      "text/plain": [
       "Valor    4.335714\n",
       "dtype: float64"
      ]
     },
     "execution_count": 19,
     "metadata": {},
     "output_type": "execute_result"
    }
   ],
   "source": [
    "desvioPadrao = precos.std()\n",
    "desvioPadrao"
   ]
  },
  {
   "cell_type": "markdown",
   "metadata": {},
   "source": [
    "Da mesma forma que foi feito com o valor do erro, é possível inserir no gráfico a informação do desvio padrão."
   ]
  },
  {
   "cell_type": "code",
   "execution_count": 20,
   "metadata": {},
   "outputs": [
    {
     "data": {
      "image/png": "[encoded data removed]",
      "text/plain": [
       "<matplotlib.figure.Figure at 0x117c2e5c0>"
      ]
     },
     "metadata": {},
     "output_type": "display_data"
    }
   ],
   "source": [
    "yDesvioPAcima = []\n",
    "for x in range(len(precos)):\n",
    "    yDesvioPAcima.append((pygarv.b0 + pygarv.b1 * x) + desvioPadrao)\n",
    "    \n",
    "yDesvioPAbaixo = []\n",
    "for x in range(len(precos)):\n",
    "    yDesvioPAbaixo.append((pygarv.b0 + pygarv.b1 * x) - desvioPadrao)\n",
    "    \n",
    "plt.title(\"Preços do ativo entre 18/10/2019 e 18/11/2019\")\n",
    "plt.xlabel(\"Dia\")\n",
    "plt.ylabel(\"Preço\")\n",
    "plt.scatter(np.arange(len(precos)), precos.iloc[::1])\n",
    "plt.plot(y, color = \"r\")\n",
    "plt.plot(yDesvioPAcima, color = \"b\")\n",
    "plt.plot(yDesvioPAbaixo, color = \"b\")\n",
    "plt.plot(yDesvioAcima, color = \"g\")\n",
    "plt.plot(yDesvioAbaixo, color = \"g\")\n",
    "plt.grid()\n",
    "plt.show()"
   ]
  },
  {
   "cell_type": "markdown",
   "metadata": {},
   "source": [
    "Agora é possível refinar ainda mais a previsão para o preço do ativo para o próximo dia."
   ]
  },
  {
   "cell_type": "code",
   "execution_count": 21,
   "metadata": {},
   "outputs": [
    {
     "name": "stdout",
     "output_type": "stream",
     "text": [
      "Previsão do preço do ativo para o próximo dia: $102.330000 <= $106.670000 <= $111.010000\n"
     ]
    }
   ],
   "source": [
    "limiteInferior = previsao - desvioPadrao\n",
    "limiteSuperior = previsao + desvioPadrao\n",
    "print(\"Previsão do preço do ativo para o próximo dia: $%f <= $%f <= $%f\" % (round(limiteInferior, 2), \n",
    "                                                                                 round(previsao, 2), \n",
    "                                                                                 round(limiteSuperior, 2)))"
   ]
  },
  {
   "cell_type": "markdown",
   "metadata": {},
   "source": [
    "## Conclusão"
   ]
  },
  {
   "cell_type": "markdown",
   "metadata": {},
   "source": [
    "De posse de todos esses dados agora é possível fazer uma análise um pouco mais racional sobre o que pode acontecer com o preço do ativo a partir do próximo dia. Vale lembrar que essa avaliação não é recomendação de compra ou venda do ativo, sendo apenas conclusões pessoais obtidas a partir desse estudo."
   ]
  },
  {
   "cell_type": "markdown",
   "metadata": {},
   "source": [
    "Pelos resultados obtidos é possível afirmar que o ativo se encontra em tendência de alta, tendo em vista a inclinação positiva da reta da regressão linear. Também é possível acreditar que essa tendência se manterá enquanto o valor do ativo se mantiver acima de 105,87. Preços abaixo de 105,87 podem indicar uma tentativa de reversão da tendência exigindo atenção por parte do investidor para uma eventual saída da aplicação."
   ]
  },
  {
   "cell_type": "markdown",
   "metadata": {},
   "source": [
    "Uma compra do ativo poderia ser feita quando o preço ficar um pouco acima de 102,33 e abaixo de 105,87 e a venda quando ficar entre 107,47 e 111,01."
   ]
  },
  {
   "cell_type": "markdown",
   "metadata": {},
   "source": [
    "Obs: Todos os valores em Reais."
   ]
  }
 ],
 "metadata": {
  "kernelspec": {
   "display_name": "Python 3",
   "language": "python",
   "name": "python3"
  },
  "language_info": {
   "codemirror_mode": {
    "name": "ipython",
    "version": 3
   },
   "file_extension": ".py",
   "mimetype": "text/x-python",
   "name": "python",
   "nbconvert_exporter": "python",
   "pygments_lexer": "ipython3",
   "version": "3.6.1"
  }
 },
 "nbformat": 4,
 "nbformat_minor": 2
}
